{
 "cells": [
  {
   "cell_type": "code",
   "execution_count": null,
   "id": "f8e91f23-f7dc-4f97-ab15-34e01d4d8a8f",
   "metadata": {},
   "outputs": [],
   "source": [
    " class Bank_Account:\n",
    "    def __init__(self,bank_account,residual=0):\n",
    "     self.bank_account=bank_account\n",
    "     self.residual=residual\n",
    "    def make_deposit(self,amount_ofmoneyasdeposit):\n",
    "      self.residual+=amount_ofmoneyasdeposit\n",
    "    def withdraw_money(self,money_wantedtobewithdrawn):\n",
    "      if self.residual>=money_wantedtobewithdrawn:\n",
    "           self.residual-=money_wantedtobewithdrawn\n",
    "           print(\"the residual is{}\".format(self.residual))\n",
    "      else:\n",
    "           print(\"insufficient residual\")\n",
    "\n",
    "    def show_residual(self):\n",
    "        print(f\"money belonging to {self.bank_account}is {self.residual}\")\n",
    "bank_account_dict={}\n",
    "\n",
    "while True:\n",
    "    print(\"1.Make a bank account\")\n",
    "    print(\"2.Make deposit\")\n",
    "    print(\"3.Withdraw money\")\n",
    "    print(\"4.Show residual\")\n",
    "    print(\"5.Exit\")\n",
    "    choice=int(input(\"Your choice?\"))\n",
    "    if choice==1:\n",
    "        your_bank_account=input(\"Enter a bank  your account\")\n",
    "        if your_bank_account in bank_account_dict:\n",
    "            print(\"your bank account is in the bank account list\")\n",
    "        else:\n",
    "            bank_account_dict[your_bank_account]= Bank_Account(your_bank_account)\n",
    "            print(f\"{your_bank_account} is  added to bank account dictionary\")\n",
    "    elif choice==2:\n",
    "        your_bank_account=input(\"Enter a bank your account\")\n",
    "        if your_bank_account in bank_account_dict:\n",
    "             amount_ofmoneyasdeposit=int(input(\"How much deposit do you want to make\"))\n",
    "             bank_account_dict[your_bank_account].make_deposit(amount_ofmoneyasdeposit)\n",
    "        else:\n",
    "             print(\"your account is not found\")\n",
    "    elif choice==3:\n",
    "        your_bank_account=input(\"Enter a bank your account\")\n",
    "        if your_bank_account in bank_account_dict:\n",
    "             money_wantedtobewithdrawn=int(input(\"How much deposit do you want to withdraw\")) \n",
    "             bank_account_dict[your_bank_account].withdraw_money(money_wantedtobewithdrawn)\n",
    "    elif choice==4:\n",
    "        your_bank_account=input(\"Enter a bank your account\")\n",
    "        if your_bank_account in bank_account_dict:\n",
    "             bank_account_dict[your_bank_account].show_residual()\n",
    "        else:\n",
    "                print(\"your account is not found\") \n",
    "    elif choice==5:\n",
    "        break  \n",
    "    else:\n",
    "        print(\"invalid option\")"
   ]
  }
 ],
 "metadata": {
  "kernelspec": {
   "display_name": "Python 3 (ipykernel)",
   "language": "python",
   "name": "python3"
  },
  "language_info": {
   "codemirror_mode": {
    "name": "ipython",
    "version": 3
   },
   "file_extension": ".py",
   "mimetype": "text/x-python",
   "name": "python",
   "nbconvert_exporter": "python",
   "pygments_lexer": "ipython3",
   "version": "3.12.4"
  }
 },
 "nbformat": 4,
 "nbformat_minor": 5
}
